{
 "cells": [
  {
   "cell_type": "code",
   "execution_count": 1,
   "metadata": {},
   "outputs": [],
   "source": [
    "import pandas as pd\n",
    "from sklearn.metrics.pairwise import linear_kernel\n",
    "from sklearn.feature_extraction.text import TfidfVectorizer"
   ]
  },
  {
   "cell_type": "code",
   "execution_count": 2,
   "metadata": {},
   "outputs": [],
   "source": [
    "book_description = pd.read_csv('description.csv', encoding = 'latin-1')"
   ]
  },
  {
   "cell_type": "code",
   "execution_count": 3,
   "metadata": {},
   "outputs": [
    {
     "data": {
      "text/html": [
       "<div>\n",
       "<style scoped>\n",
       "    .dataframe tbody tr th:only-of-type {\n",
       "        vertical-align: middle;\n",
       "    }\n",
       "\n",
       "    .dataframe tbody tr th {\n",
       "        vertical-align: top;\n",
       "    }\n",
       "\n",
       "    .dataframe thead th {\n",
       "        text-align: right;\n",
       "    }\n",
       "</style>\n",
       "<table border=\"1\" class=\"dataframe\">\n",
       "  <thead>\n",
       "    <tr style=\"text-align: right;\">\n",
       "      <th></th>\n",
       "      <th>book_id</th>\n",
       "      <th>name</th>\n",
       "      <th>description</th>\n",
       "    </tr>\n",
       "  </thead>\n",
       "  <tbody>\n",
       "    <tr>\n",
       "      <th>0</th>\n",
       "      <td>4833.0</td>\n",
       "      <td>The Glass Castle</td>\n",
       "      <td>A tender, moving tale of unconditional love in...</td>\n",
       "    </tr>\n",
       "    <tr>\n",
       "      <th>1</th>\n",
       "      <td>590.0</td>\n",
       "      <td>Night (The Night Trilogy, #1)</td>\n",
       "      <td>Born into a Jewish ghetto in Hungary, as a chi...</td>\n",
       "    </tr>\n",
       "    <tr>\n",
       "      <th>2</th>\n",
       "      <td>4264.0</td>\n",
       "      <td>Angela's Ashes (Frank McCourt, #1)</td>\n",
       "      <td>Imbued on every page with Frank McCourt's asto...</td>\n",
       "    </tr>\n",
       "    <tr>\n",
       "      <th>3</th>\n",
       "      <td>3361.0</td>\n",
       "      <td>Eat, Pray, Love</td>\n",
       "      <td>A celebrated writer's irresistible, candid, an...</td>\n",
       "    </tr>\n",
       "    <tr>\n",
       "      <th>4</th>\n",
       "      <td>4535.0</td>\n",
       "      <td>Into Thin Air: A Personal Account of the Mount...</td>\n",
       "      <td>A bank of clouds was assembling on the not-so-...</td>\n",
       "    </tr>\n",
       "  </tbody>\n",
       "</table>\n",
       "</div>"
      ],
      "text/plain": [
       "   book_id                                               name  \\\n",
       "0   4833.0                                  The Glass Castle    \n",
       "1    590.0                     Night (The Night Trilogy, #1)    \n",
       "2   4264.0                Angela's Ashes (Frank McCourt, #1)    \n",
       "3   3361.0                                   Eat, Pray, Love    \n",
       "4   4535.0  Into Thin Air: A Personal Account of the Mount...   \n",
       "\n",
       "                                         description  \n",
       "0  A tender, moving tale of unconditional love in...  \n",
       "1  Born into a Jewish ghetto in Hungary, as a chi...  \n",
       "2  Imbued on every page with Frank McCourt's asto...  \n",
       "3  A celebrated writer's irresistible, candid, an...  \n",
       "4  A bank of clouds was assembling on the not-so-...  "
      ]
     },
     "execution_count": 3,
     "metadata": {},
     "output_type": "execute_result"
    }
   ],
   "source": [
    "book_description.head()"
   ]
  },
  {
   "cell_type": "code",
   "execution_count": 4,
   "metadata": {},
   "outputs": [],
   "source": [
    "books_tfidf = TfidfVectorizer(stop_words='english')\n",
    "book_description['description'] = book_description['description'].fillna('')\n",
    "book_description_matrix = books_tfidf.fit_transform(book_description['description'])\n"
   ]
  },
  {
   "cell_type": "code",
   "execution_count": 7,
   "metadata": {},
   "outputs": [
    {
     "name": "stdout",
     "output_type": "stream",
     "text": [
      "  (0, 3752)\t0.049955073644452376\n",
      "  (0, 3253)\t0.06987145007848536\n",
      "  (0, 1809)\t0.06450244729893673\n",
      "  (0, 996)\t0.06450244729893673\n",
      "  (0, 2625)\t0.06450244729893673\n",
      "  (0, 3887)\t0.06069307920354963\n",
      "  (0, 3599)\t0.07393466934825911\n",
      "  (0, 1630)\t0.06987145007848536\n",
      "  (0, 128)\t0.06450244729893673\n",
      "  (0, 1006)\t0.06450244729893673\n",
      "  (0, 1041)\t0.051514708328613906\n",
      "  (0, 2002)\t0.06987145007848536\n",
      "  (0, 3754)\t0.06987145007848536\n",
      "  (0, 1736)\t0.06987145007848536\n",
      "  (0, 2105)\t0.04508581281997952\n",
      "  (0, 285)\t0.06987145007848536\n",
      "  (0, 1834)\t0.051514708328613906\n",
      "  (0, 2178)\t0.06069307920354963\n",
      "  (0, 3187)\t0.05773830375361193\n",
      "  (0, 1487)\t0.05773830375361193\n",
      "  (0, 412)\t0.06450244729893673\n",
      "  (0, 4076)\t0.06987145007848536\n",
      "  (0, 3675)\t0.06987145007848536\n",
      "  (0, 1466)\t0.06450244729893673\n",
      "  (0, 3440)\t0.06987145007848536\n",
      "  :\t:\n",
      "  (142, 4087)\t0.15890859974694924\n",
      "  (142, 3991)\t0.16888241155386877\n",
      "  (142, 1589)\t0.16888241155386877\n",
      "  (142, 1537)\t0.16888241155386877\n",
      "  (142, 2214)\t0.16888241155386877\n",
      "  (142, 3727)\t0.16888241155386877\n",
      "  (142, 1783)\t0.13487748972857805\n",
      "  (142, 2275)\t0.16888241155386877\n",
      "  (142, 1129)\t0.14485130153549758\n",
      "  (142, 1017)\t0.15117231028070638\n",
      "  (142, 1581)\t0.14485130153549758\n",
      "  (142, 917)\t0.13950696479110944\n",
      "  (142, 54)\t0.15890859974694924\n",
      "  (142, 1093)\t0.14485130153549758\n",
      "  (142, 4071)\t0.14485130153549758\n",
      "  (142, 759)\t0.14485130153549758\n",
      "  (142, 3942)\t0.1238368379551868\n",
      "  (142, 1462)\t0.16888241155386877\n",
      "  (142, 2262)\t0.16888241155386877\n",
      "  (142, 1599)\t0.15890859974694924\n",
      "  (142, 1216)\t0.1238368379551868\n",
      "  (142, 1703)\t0.21748910109920122\n",
      "  (142, 4049)\t0.14485130153549758\n",
      "  (142, 2257)\t0.1271412002623352\n",
      "  (142, 2105)\t0.11804514580069256\n"
     ]
    }
   ],
   "source": [
    "book_description_matrix.shape\n",
    "print(book_description_matrix)"
   ]
  },
  {
   "cell_type": "code",
   "execution_count": 6,
   "metadata": {},
   "outputs": [],
   "source": [
    "cosine_similarity = linear_kernel(book_description_matrix, book_description_matrix)"
   ]
  },
  {
   "cell_type": "code",
   "execution_count": null,
   "metadata": {},
   "outputs": [],
   "source": []
  },
  {
   "cell_type": "code",
   "execution_count": 10,
   "metadata": {},
   "outputs": [
    {
     "name": "stdout",
     "output_type": "stream",
     "text": [
      "Top five books similar to the book at index 2\n",
      "6                                 Running with Scissors \n",
      "29                            The Diary of a Young Girl \n",
      "116    It's St. Patrick's Day (Turtleback School & Li...\n",
      "11     Persepolis: The Story of a Childhood (Persepol...\n",
      "20     Maus I: A Survivor's Tale: My Father Bleeds Hi...\n",
      "Name: name, dtype: object\n"
     ]
    }
   ],
   "source": [
    "indices = pd.Series(book_description['name'].index)\n",
    "def recommend(index, cosine_sim=cosine_similarity):\n",
    "    id = indices[index]\n",
    "    similarity_scores = list(enumerate(cosine_sim[id]))\n",
    "    similarity_scores = sorted(similarity_scores, key=lambda x: x[1], reverse=True)\n",
    "    similarity_scores = similarity_scores[1:6]\n",
    "    books_index = [i[0] for i in similarity_scores]\n",
    "    return book_description['name'].iloc[books_index]\n",
    "print('Top five books similar to the book at index:',2)\n",
    "print(recommend(2))"
   ]
  },
  {
   "cell_type": "code",
   "execution_count": 11,
   "metadata": {},
   "outputs": [
    {
     "name": "stdout",
     "output_type": "stream",
     "text": [
      "2            Angela's Ashes (Frank McCourt, #1) \n",
      "9         A Child Called \"It\" (Dave Pelzer, #1) \n",
      "21         Wild Swans: Three Daughters of China \n",
      "22    A Long Way Gone: Memoirs of a Boy Soldier \n",
      "29                    The Diary of a Young Girl \n",
      "Name: name, dtype: object\n"
     ]
    }
   ],
   "source": [
    "print(recommend(6))"
   ]
  },
  {
   "cell_type": "code",
   "execution_count": null,
   "metadata": {},
   "outputs": [],
   "source": []
  }
 ],
 "metadata": {
  "kernelspec": {
   "display_name": "Python 3",
   "language": "python",
   "name": "python3"
  },
  "language_info": {
   "codemirror_mode": {
    "name": "ipython",
    "version": 3
   },
   "file_extension": ".py",
   "mimetype": "text/x-python",
   "name": "python",
   "nbconvert_exporter": "python",
   "pygments_lexer": "ipython3",
   "version": "3.7.3"
  }
 },
 "nbformat": 4,
 "nbformat_minor": 2
}
